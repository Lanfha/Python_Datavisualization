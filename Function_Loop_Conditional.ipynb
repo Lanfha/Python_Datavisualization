{
 "cells": [
  {
   "cell_type": "markdown",
   "metadata": {},
   "source": [
    "# Function\n",
    "### print ชื่อ XXX สกุล YYY รหัส ZZZ\n",
    "### print เกรด วิชา Stat 1 >>>AAA"
   ]
  },
  {
   "cell_type": "code",
   "execution_count": 2,
   "metadata": {},
   "outputs": [
    {
     "name": "stdout",
     "output_type": "stream",
     "text": [
      "ชื่อ ลั่นฟ้า นามสกุล บุญรอด รหัส 603021885-3\n"
     ]
    }
   ],
   "source": [
    "a = f'ชื่อ ลั่นฟ้า นามสกุล บุญรอด รหัส 603021885-3'\n",
    "print(a)"
   ]
  },
  {
   "cell_type": "code",
   "execution_count": 6,
   "metadata": {},
   "outputs": [
    {
     "name": "stdout",
     "output_type": "stream",
     "text": [
      "ชื่อ ลั่นฟ้า นามสกุล บุญรอด รหัส603021885-3\n"
     ]
    }
   ],
   "source": [
    "name = 'ลั่นฟ้า'\n",
    "surname = 'บุญรอด'\n",
    "ID ='603021885-3'\n",
    "b = f'ชื่อ {name} นามสกุล {surname} รหัส{ID}'\n",
    "print(b)"
   ]
  },
  {
   "cell_type": "markdown",
   "metadata": {},
   "source": [
    "### function template\n",
    "```python\n",
    "def fucntion_name(input):\n",
    "    dosomething\n",
    "    return output\n",
    "```"
   ]
  },
  {
   "cell_type": "code",
   "execution_count": 8,
   "metadata": {},
   "outputs": [],
   "source": [
    "def print_line1(name1,surname1,ID1):\n",
    "    st = f'ชื่อ {name} นามสกุล {surname} รหัส{ID}'\n",
    "    return st"
   ]
  },
  {
   "cell_type": "code",
   "execution_count": 15,
   "metadata": {},
   "outputs": [
    {
     "name": "stdout",
     "output_type": "stream",
     "text": [
      "ชื่อ ลั่นฟ้า นามสกุล บุญรอด รหัส603021885-3\n"
     ]
    }
   ],
   "source": [
    "print(print_line1('ลั่นฟ้า','บุญรอด','603021885-3'))"
   ]
  },
  {
   "cell_type": "code",
   "execution_count": 16,
   "metadata": {},
   "outputs": [],
   "source": [
    "def print_2line(name1,surname1,ID1,grade):\n",
    "    st = f'ชื่อ {name} นามสกุล {surname} รหัส{ID}'\n",
    "    print(st)\n",
    "    st2 = f'เกรดวิชา stat1 >>> {grade}'\n",
    "    print(st2)"
   ]
  },
  {
   "cell_type": "code",
   "execution_count": 19,
   "metadata": {},
   "outputs": [
    {
     "name": "stdout",
     "output_type": "stream",
     "text": [
      "ชื่อ ลั่นฟ้า นามสกุล บุญรอด รหัส603021885-3\n",
      "เกรดวิชา stat1 >>> B+\n"
     ]
    }
   ],
   "source": [
    "print_2line('ลั่นฟ้า','บุญรอด','603021885-3','B+')"
   ]
  },
  {
   "cell_type": "code",
   "execution_count": 29,
   "metadata": {},
   "outputs": [],
   "source": [
    "def print_3line(name1,surname1,ID1,grade):\n",
    "    st = f'ชื่อ {name1} นามสกุล {surname1} รหัส{ID1}'\n",
    "    print(st)\n",
    "    st2 = f'เกรดวิชา stat1 >>> {grade}'\n",
    "    print(st2)"
   ]
  },
  {
   "cell_type": "code",
   "execution_count": 30,
   "metadata": {},
   "outputs": [
    {
     "name": "stdout",
     "output_type": "stream",
     "text": [
      "ชื่อ ลั่นฟ้า นามสกุล บุญรอด รหัส603021885-3\n",
      "เกรดวิชา stat1 >>> A\n",
      "ชื่อ กฤตยา นามสกุล สังข์ไทย รหัส603021853-6\n",
      "เกรดวิชา stat1 >>> A\n",
      "ชื่อ ณัฐฤทธิ์ นามสกุล เศวตวรานนท์ รหัส603021863-3\n",
      "เกรดวิชา stat1 >>> A\n"
     ]
    }
   ],
   "source": [
    "print_3line('ลั่นฟ้า','บุญรอด','603021885-3','A')\n",
    "print_3line('กฤตยา','สังข์ไทย','603021853-6','A')\n",
    "print_3line('ณัฐฤทธิ์','เศวตวรานนท์','603021863-3','A')"
   ]
  },
  {
   "cell_type": "markdown",
   "metadata": {},
   "source": [
    "## function without input"
   ]
  },
  {
   "cell_type": "code",
   "execution_count": 32,
   "metadata": {},
   "outputs": [],
   "source": [
    "def two_x_three():\n",
    "    x = 2*3\n",
    "    return x"
   ]
  },
  {
   "cell_type": "code",
   "execution_count": 34,
   "metadata": {},
   "outputs": [
    {
     "data": {
      "text/plain": [
       "6"
      ]
     },
     "execution_count": 34,
     "metadata": {},
     "output_type": "execute_result"
    }
   ],
   "source": [
    "two_x_three()"
   ]
  },
  {
   "cell_type": "markdown",
   "metadata": {},
   "source": [
    "### function with default argument"
   ]
  },
  {
   "cell_type": "code",
   "execution_count": 40,
   "metadata": {},
   "outputs": [],
   "source": [
    "def print_2line_default(name1,surname1,ID1,grade='F'):\n",
    "    st = f'ชื่อ {name1} นามสกุล {surname1} รหัส{ID1}'\n",
    "    print(st)\n",
    "    st2 = f'เกรดวิชา stat1 >>> {grade}'\n",
    "    print(st2)"
   ]
  },
  {
   "cell_type": "code",
   "execution_count": 41,
   "metadata": {},
   "outputs": [
    {
     "name": "stdout",
     "output_type": "stream",
     "text": [
      "ชื่อ ju นามสกุล manji รหัส12345678-9\n",
      "เกรดวิชา stat1 >>> F\n"
     ]
    }
   ],
   "source": [
    "print_2line_default('ju','manji','12345678-9')"
   ]
  },
  {
   "cell_type": "code",
   "execution_count": 39,
   "metadata": {},
   "outputs": [
    {
     "name": "stdout",
     "output_type": "stream",
     "text": [
      "ชื่อ ju นามสกุล manji รหัส12345678-9\n",
      "เกรดวิชา stat1 >>> B\n"
     ]
    }
   ],
   "source": [
    "print_2line_default('ju','manji','12345678-9','B')"
   ]
  },
  {
   "cell_type": "markdown",
   "metadata": {},
   "source": [
    "### Loop (วนซ้ำ)"
   ]
  },
  {
   "cell_type": "markdown",
   "metadata": {},
   "source": [
    "```python\n",
    "for each_member in listA:\n",
    "    do something\n",
    "```"
   ]
  },
  {
   "cell_type": "code",
   "execution_count": 43,
   "metadata": {},
   "outputs": [
    {
     "name": "stdout",
     "output_type": "stream",
     "text": [
      "1\n",
      "2\n",
      "3\n"
     ]
    }
   ],
   "source": [
    "for i in [1,2,3]:\n",
    "    print (i)"
   ]
  },
  {
   "cell_type": "code",
   "execution_count": 45,
   "metadata": {},
   "outputs": [
    {
     "name": "stdout",
     "output_type": "stream",
     "text": [
      "L-> /\n",
      " \n",
      "a-> /\n",
      " \n",
      "n-> /\n",
      " \n",
      "f-> /\n",
      " \n",
      "h-> /\n",
      " \n",
      "a-> /\n",
      " \n"
     ]
    }
   ],
   "source": [
    "for i in 'Lanfha':\n",
    "    print (f'{i}-> /')\n",
    "    print (' ')"
   ]
  },
  {
   "cell_type": "markdown",
   "metadata": {},
   "source": [
    "## 1 สร้าง list ชื่อเพื่อนที่อยู่ในแถวยาวเดียวกัน\n",
    "## 1.5 สร้าง function print ปริ้นประโยคว่า xxxเรา yyyความรู้สึก zzzทุกคนในแถวยาว\n",
    "## 2 วนloop เรียก function โดยเปลี่ยนชื่อเพื่อนไปเรื่อยๆ"
   ]
  },
  {
   "cell_type": "code",
   "execution_count": 54,
   "metadata": {},
   "outputs": [
    {
     "name": "stdout",
     "output_type": "stream",
     "text": [
      "เจ็ท รัก แตงโม\n",
      "เจ็ท รัก บูม\n",
      "เจ็ท รัก เจมส์\n",
      "เจ็ท รัก ดายน์\n",
      "เจ็ท รัก ฝน\n",
      "เจ็ท รัก แคมป์\n"
     ]
    }
   ],
   "source": [
    "for i in ['แตงโม','บูม','เจมส์','ดายน์','ฝน','แคมป์']:\n",
    "    print (f'เจ็ท รัก {i}')"
   ]
  },
  {
   "cell_type": "code",
   "execution_count": 56,
   "metadata": {},
   "outputs": [],
   "source": [
    "def print_line_friend(name1,react,Fname):\n",
    "    st = f'{name1} {react} {Fname}'\n",
    "    print(st)"
   ]
  },
  {
   "cell_type": "code",
   "execution_count": 57,
   "metadata": {},
   "outputs": [
    {
     "name": "stdout",
     "output_type": "stream",
     "text": [
      "เจ็ท รัก แตงโม\n",
      "เจ็ท รัก บูม\n",
      "เจ็ท รัก เจม\n",
      "เจ็ท รัก ฝน\n",
      "เจ็ท รัก ดายน์\n",
      "เจ็ท รัก แคมป์\n"
     ]
    }
   ],
   "source": [
    "print_line_friend('เจ็ท','รัก','แตงโม')\n",
    "print_line_friend('เจ็ท','รัก','บูม')\n",
    "print_line_friend('เจ็ท','รัก','เจม')\n",
    "print_line_friend('เจ็ท','รัก','ฝน')\n",
    "print_line_friend('เจ็ท','รัก','ดายน์')\n",
    "print_line_friend('เจ็ท','รัก','แคมป์')"
   ]
  },
  {
   "cell_type": "code",
   "execution_count": 58,
   "metadata": {},
   "outputs": [
    {
     "name": "stdout",
     "output_type": "stream",
     "text": [
      "เจ็ท รัก แตงโม\n",
      "เจ็ท รัก บูม\n",
      "เจ็ท รัก เจมส์\n",
      "เจ็ท รัก ฝน\n",
      "เจ็ท รัก ดายน์\n",
      "เจ็ท รัก แคมป์\n"
     ]
    }
   ],
   "source": [
    "for i in ['แตงโม','บูม','เจมส์','ฝน','ดายน์','แคมป์']:\n",
    "    print_line_friend('เจ็ท','รัก',i)"
   ]
  },
  {
   "cell_type": "markdown",
   "metadata": {},
   "source": [
    "### function in loop"
   ]
  },
  {
   "cell_type": "code",
   "execution_count": 96,
   "metadata": {},
   "outputs": [],
   "source": [
    "friend_list = ['เจ็ทสิก้า','แตงโม','บูม','เจม','ดายน์']"
   ]
  },
  {
   "cell_type": "code",
   "execution_count": 97,
   "metadata": {},
   "outputs": [],
   "source": [
    "def print_feeling(I,feeling,friend):\n",
    "    print(f'{I} {feeling} {friend}')"
   ]
  },
  {
   "cell_type": "code",
   "execution_count": 98,
   "metadata": {},
   "outputs": [
    {
     "name": "stdout",
     "output_type": "stream",
     "text": [
      "jet love A\n"
     ]
    }
   ],
   "source": [
    "print_feeling('jet','love','A')"
   ]
  },
  {
   "cell_type": "code",
   "execution_count": 99,
   "metadata": {},
   "outputs": [
    {
     "name": "stdout",
     "output_type": "stream",
     "text": [
      "jet love เจ็ทสิก้า\n",
      "jet love แตงโม\n",
      "jet love บูม\n",
      "jet love เจม\n",
      "jet love ดายน์\n"
     ]
    }
   ],
   "source": [
    "for f in friend_list:\n",
    "    print_feeling('jet','love',f)"
   ]
  },
  {
   "cell_type": "markdown",
   "metadata": {},
   "source": [
    "### loop in loop\n"
   ]
  },
  {
   "cell_type": "code",
   "execution_count": 100,
   "metadata": {},
   "outputs": [
    {
     "name": "stdout",
     "output_type": "stream",
     "text": [
      "เจ็ทสิก้า รัก เจ็ทสิก้า\n",
      "เจ็ทสิก้า รัก แตงโม\n",
      "เจ็ทสิก้า รัก บูม\n",
      "เจ็ทสิก้า รัก เจม\n",
      "เจ็ทสิก้า รัก ดายน์\n",
      "แตงโม รัก เจ็ทสิก้า\n",
      "แตงโม รัก แตงโม\n",
      "แตงโม รัก บูม\n",
      "แตงโม รัก เจม\n",
      "แตงโม รัก ดายน์\n",
      "บูม รัก เจ็ทสิก้า\n",
      "บูม รัก แตงโม\n",
      "บูม รัก บูม\n",
      "บูม รัก เจม\n",
      "บูม รัก ดายน์\n",
      "เจม รัก เจ็ทสิก้า\n",
      "เจม รัก แตงโม\n",
      "เจม รัก บูม\n",
      "เจม รัก เจม\n",
      "เจม รัก ดายน์\n",
      "ดายน์ รัก เจ็ทสิก้า\n",
      "ดายน์ รัก แตงโม\n",
      "ดายน์ รัก บูม\n",
      "ดายน์ รัก เจม\n",
      "ดายน์ รัก ดายน์\n"
     ]
    }
   ],
   "source": [
    "for name1 in friend_list:\n",
    "    for name2 in friend_list:\n",
    "        print_feeling(name1,'รัก',name2)"
   ]
  },
  {
   "cell_type": "code",
   "execution_count": null,
   "metadata": {},
   "outputs": [],
   "source": []
  },
  {
   "cell_type": "code",
   "execution_count": null,
   "metadata": {},
   "outputs": [],
   "source": []
  },
  {
   "cell_type": "code",
   "execution_count": null,
   "metadata": {},
   "outputs": [],
   "source": []
  },
  {
   "cell_type": "code",
   "execution_count": null,
   "metadata": {},
   "outputs": [],
   "source": []
  },
  {
   "cell_type": "markdown",
   "metadata": {},
   "source": [
    "## loop in function"
   ]
  },
  {
   "cell_type": "code",
   "execution_count": 67,
   "metadata": {},
   "outputs": [],
   "source": [
    "def print_feelings(I,feeling,friends):\n",
    "    for friend in friends:\n",
    "        print(f'{I} {feeling} {friend}')"
   ]
  },
  {
   "cell_type": "code",
   "execution_count": 94,
   "metadata": {},
   "outputs": [
    {
     "name": "stdout",
     "output_type": "stream",
     "text": [
      "jet love แตงโม\n",
      "jet love บูม\n",
      "jet love เจม\n",
      "jet love ดายน์\n"
     ]
    }
   ],
   "source": [
    "print_feelings('jet','love', friend_list)"
   ]
  },
  {
   "cell_type": "markdown",
   "metadata": {},
   "source": [
    "## looping in dict"
   ]
  },
  {
   "cell_type": "code",
   "execution_count": 70,
   "metadata": {},
   "outputs": [
    {
     "data": {
      "text/plain": [
       "{'jab': 'A', 'jub': 'B', 'jib': 'C', 'joy': 'F'}"
      ]
     },
     "execution_count": 70,
     "metadata": {},
     "output_type": "execute_result"
    }
   ],
   "source": [
    "name_grade = {'jab':'A','jub':'B','jib':'C','joy':'F'}\n",
    "name_grade"
   ]
  },
  {
   "cell_type": "code",
   "execution_count": 71,
   "metadata": {},
   "outputs": [
    {
     "data": {
      "text/plain": [
       "'A'"
      ]
     },
     "execution_count": 71,
     "metadata": {},
     "output_type": "execute_result"
    }
   ],
   "source": [
    "name_grade['jab']"
   ]
  },
  {
   "cell_type": "code",
   "execution_count": 78,
   "metadata": {},
   "outputs": [
    {
     "data": {
      "text/plain": [
       "dict_keys(['jab', 'jub', 'jib', 'joy'])"
      ]
     },
     "execution_count": 78,
     "metadata": {},
     "output_type": "execute_result"
    }
   ],
   "source": [
    "name_grade.keys()"
   ]
  },
  {
   "cell_type": "code",
   "execution_count": 77,
   "metadata": {},
   "outputs": [
    {
     "name": "stdout",
     "output_type": "stream",
     "text": [
      "jab ได้เกรด A\n",
      "jub ได้เกรด B\n",
      "jib ได้เกรด C\n",
      "joy ได้เกรด F\n"
     ]
    }
   ],
   "source": [
    "for i in name_grade.keys():\n",
    "    print(f'{i} ได้เกรด {name_grade[i]}')"
   ]
  },
  {
   "cell_type": "markdown",
   "metadata": {},
   "source": [
    "### Conditional"
   ]
  },
  {
   "cell_type": "markdown",
   "metadata": {},
   "source": [
    "#### ==(เช็คว่าเท่ากันหรือไม่) ,!=(เช็คว่าตัวข้างหน้าไม่เท่ากันหรือไม่),>=(เช็คว่าข้างหน้ามากกว่าเท่ากับข้างหลังหรือไม่),<=(เช็กว่าตัวข้างหน้าน้อยกว่าข้างหรือหรือไหม),<,>"
   ]
  },
  {
   "cell_type": "markdown",
   "metadata": {},
   "source": [
    "```python\n",
    "if condition1:\n",
    "    do something\n",
    "elif condition2:\n",
    "    do another thing\n",
    "else:\n",
    "    do ...\n",
    "```    "
   ]
  },
  {
   "cell_type": "code",
   "execution_count": 101,
   "metadata": {},
   "outputs": [
    {
     "name": "stdout",
     "output_type": "stream",
     "text": [
      "เจ็ทสิก้า รัก แตงโม\n",
      "เจ็ทสิก้า รัก บูม\n",
      "เจ็ทสิก้า รัก เจม\n",
      "เจ็ทสิก้า รัก ดายน์\n",
      "แตงโม รัก เจ็ทสิก้า\n",
      "แตงโม รัก บูม\n",
      "แตงโม รัก เจม\n",
      "แตงโม รัก ดายน์\n",
      "บูม รัก เจ็ทสิก้า\n",
      "บูม รัก แตงโม\n",
      "บูม รัก เจม\n",
      "บูม รัก ดายน์\n",
      "เจม รัก เจ็ทสิก้า\n",
      "เจม รัก แตงโม\n",
      "เจม รัก บูม\n",
      "เจม รัก ดายน์\n",
      "ดายน์ รัก เจ็ทสิก้า\n",
      "ดายน์ รัก แตงโม\n",
      "ดายน์ รัก บูม\n",
      "ดายน์ รัก เจม\n"
     ]
    }
   ],
   "source": [
    "for name1 in friend_list:\n",
    "    for name2 in friend_list:\n",
    "        if name1 != name2:\n",
    "           print_feeling(name1,'รัก',name2)"
   ]
  },
  {
   "cell_type": "code",
   "execution_count": 103,
   "metadata": {},
   "outputs": [
    {
     "name": "stdout",
     "output_type": "stream",
     "text": [
      "Yes\n"
     ]
    }
   ],
   "source": [
    "if True:\n",
    "    print('Yes')"
   ]
  },
  {
   "cell_type": "code",
   "execution_count": 105,
   "metadata": {},
   "outputs": [],
   "source": [
    "if False:\n",
    "    print('No')"
   ]
  },
  {
   "cell_type": "code",
   "execution_count": 106,
   "metadata": {},
   "outputs": [
    {
     "name": "stdout",
     "output_type": "stream",
     "text": [
      "No\n"
     ]
    }
   ],
   "source": [
    "if False:\n",
    "    print('Yes')\n",
    "else:\n",
    "    print('No')"
   ]
  },
  {
   "cell_type": "code",
   "execution_count": 109,
   "metadata": {},
   "outputs": [
    {
     "data": {
      "text/plain": [
       "True"
      ]
     },
     "execution_count": 109,
     "metadata": {},
     "output_type": "execute_result"
    }
   ],
   "source": [
    "1 == 1"
   ]
  },
  {
   "cell_type": "code",
   "execution_count": 110,
   "metadata": {},
   "outputs": [
    {
     "name": "stdout",
     "output_type": "stream",
     "text": [
      "1==1\n"
     ]
    }
   ],
   "source": [
    "if 1==1:\n",
    "    print('1==1')"
   ]
  },
  {
   "cell_type": "markdown",
   "metadata": {},
   "source": [
    "# HW\n",
    "เขียน function ตัดเกรด โดยที่ input เป็นคะแนน(0-100) output เป็นเกรด(F-A)\n",
    "\n",
    "input =[1,50,65,90,101,-5,49]"
   ]
  },
  {
   "cell_type": "code",
   "execution_count": 12,
   "metadata": {},
   "outputs": [],
   "source": [
    "def grade(score):\n",
    "    if score < 50:\n",
    "        print(f'{score} ได้เกรด F')\n",
    "    elif 50 >= score < 55:\n",
    "        print(f'{score} ได้เกรด D')\n",
    "    elif 55 >= score < 60:\n",
    "        print(f'{score} ได้เกรด D+')\n",
    "    elif 60 >= score < 65:\n",
    "        print(f'{score} ได้เกรด C')\n",
    "    elif 65 >= score < 70:\n",
    "        print(f'{score} ได้เกรด C+')\n",
    "    elif 70 >= score < 75:\n",
    "        print(f'{score} ได้เกรด B') \n",
    "    elif 75 >= score < 80:\n",
    "        print(f'{score} ได้เกรด B+')   \n",
    "    else:\n",
    "        print(f'{score} ได้เกรด A')\n"
   ]
  },
  {
   "cell_type": "code",
   "execution_count": 14,
   "metadata": {},
   "outputs": [
    {
     "name": "stdout",
     "output_type": "stream",
     "text": [
      "1 ได้เกรด F\n",
      "50 ได้เกรด D\n",
      "65 ได้เกรด C+\n",
      "90 ได้เกรด A\n",
      "101 ได้เกรด A\n",
      "-5 ได้เกรด F\n",
      "49 ได้เกรด F\n"
     ]
    }
   ],
   "source": [
    "grade(1)\n",
    "grade(50)\n",
    "grade(65)\n",
    "grade(90)\n",
    "grade(101)\n",
    "grade(-5)\n",
    "grade(49)"
   ]
  },
  {
   "cell_type": "code",
   "execution_count": null,
   "metadata": {},
   "outputs": [],
   "source": []
  }
 ],
 "metadata": {
  "kernelspec": {
   "display_name": "Python 3",
   "language": "python",
   "name": "python3"
  },
  "language_info": {
   "codemirror_mode": {
    "name": "ipython",
    "version": 3
   },
   "file_extension": ".py",
   "mimetype": "text/x-python",
   "name": "python",
   "nbconvert_exporter": "python",
   "pygments_lexer": "ipython3",
   "version": "3.7.3"
  }
 },
 "nbformat": 4,
 "nbformat_minor": 2
}
